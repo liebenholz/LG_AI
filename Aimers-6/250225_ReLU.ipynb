{
  "cells": [
    {
      "cell_type": "code",
      "source": [
        "!pip install -q scikit-learn numpy pandas altair kaggle==1.6.6 graphviz imbalanced-learn\n",
        "!pip install -q xgboost lightgbm catboost statsmodels plotly optuna tensorflow"
      ],
      "metadata": {
        "id": "bmsn445xPEEZ",
        "colab": {
          "base_uri": "https://localhost:8080/"
        },
        "outputId": "105bf92c-63cf-40db-b448-dfbb70e39da0"
      },
      "execution_count": 1,
      "outputs": [
        {
          "output_type": "stream",
          "name": "stdout",
          "text": [
            "\u001b[?25l     \u001b[90m━━━━━━━━━━━━━━━━━━━━━━━━━━━━━━━━━━━━━━━━\u001b[0m \u001b[32m0.0/84.6 kB\u001b[0m \u001b[31m?\u001b[0m eta \u001b[36m-:--:--\u001b[0m\r\u001b[2K     \u001b[90m━━━━━━━━━━━━━━━━━━━━━━━━━━━━━━━━━━━━━━━━\u001b[0m \u001b[32m84.6/84.6 kB\u001b[0m \u001b[31m2.3 MB/s\u001b[0m eta \u001b[36m0:00:00\u001b[0m\n",
            "\u001b[?25h  Preparing metadata (setup.py) ... \u001b[?25l\u001b[?25hdone\n",
            "  Building wheel for kaggle (setup.py) ... \u001b[?25l\u001b[?25hdone\n",
            "\u001b[2K   \u001b[90m━━━━━━━━━━━━━━━━━━━━━━━━━━━━━━━━━━━━━━━━\u001b[0m \u001b[32m98.7/98.7 MB\u001b[0m \u001b[31m9.3 MB/s\u001b[0m eta \u001b[36m0:00:00\u001b[0m\n",
            "\u001b[2K   \u001b[90m━━━━━━━━━━━━━━━━━━━━━━━━━━━━━━━━━━━━━━━━\u001b[0m \u001b[32m383.6/383.6 kB\u001b[0m \u001b[31m12.5 MB/s\u001b[0m eta \u001b[36m0:00:00\u001b[0m\n",
            "\u001b[2K   \u001b[90m━━━━━━━━━━━━━━━━━━━━━━━━━━━━━━━━━━━━━━━━\u001b[0m \u001b[32m233.6/233.6 kB\u001b[0m \u001b[31m11.4 MB/s\u001b[0m eta \u001b[36m0:00:00\u001b[0m\n",
            "\u001b[2K   \u001b[90m━━━━━━━━━━━━━━━━━━━━━━━━━━━━━━━━━━━━━━━━\u001b[0m \u001b[32m78.5/78.5 kB\u001b[0m \u001b[31m5.6 MB/s\u001b[0m eta \u001b[36m0:00:00\u001b[0m\n",
            "\u001b[?25h"
          ]
        }
      ]
    },
    {
      "cell_type": "code",
      "source": [
        "!sudo apt-get install -y fonts-nanum\n",
        "!sudo fc-cache -fv\n",
        "!rm ~/.cache/matplotlib -rf"
      ],
      "metadata": {
        "colab": {
          "base_uri": "https://localhost:8080/"
        },
        "id": "itl1sferRhP9",
        "outputId": "92618b37-0f1b-4b5c-b6bf-5887d2b9c945"
      },
      "execution_count": 2,
      "outputs": [
        {
          "output_type": "stream",
          "name": "stdout",
          "text": [
            "Reading package lists... Done\n",
            "Building dependency tree... Done\n",
            "Reading state information... Done\n",
            "The following NEW packages will be installed:\n",
            "  fonts-nanum\n",
            "0 upgraded, 1 newly installed, 0 to remove and 21 not upgraded.\n",
            "Need to get 10.3 MB of archives.\n",
            "After this operation, 34.1 MB of additional disk space will be used.\n",
            "Get:1 http://archive.ubuntu.com/ubuntu jammy/universe amd64 fonts-nanum all 20200506-1 [10.3 MB]\n",
            "Fetched 10.3 MB in 1s (7,334 kB/s)\n",
            "debconf: unable to initialize frontend: Dialog\n",
            "debconf: (No usable dialog-like program is installed, so the dialog based frontend cannot be used. at /usr/share/perl5/Debconf/FrontEnd/Dialog.pm line 78, <> line 1.)\n",
            "debconf: falling back to frontend: Readline\n",
            "debconf: unable to initialize frontend: Readline\n",
            "debconf: (This frontend requires a controlling tty.)\n",
            "debconf: falling back to frontend: Teletype\n",
            "dpkg-preconfigure: unable to re-open stdin: \n",
            "Selecting previously unselected package fonts-nanum.\n",
            "(Reading database ... 124926 files and directories currently installed.)\n",
            "Preparing to unpack .../fonts-nanum_20200506-1_all.deb ...\n",
            "Unpacking fonts-nanum (20200506-1) ...\n",
            "Setting up fonts-nanum (20200506-1) ...\n",
            "Processing triggers for fontconfig (2.13.1-4.2ubuntu5) ...\n",
            "/usr/share/fonts: caching, new cache contents: 0 fonts, 1 dirs\n",
            "/usr/share/fonts/truetype: caching, new cache contents: 0 fonts, 3 dirs\n",
            "/usr/share/fonts/truetype/humor-sans: caching, new cache contents: 1 fonts, 0 dirs\n",
            "/usr/share/fonts/truetype/liberation: caching, new cache contents: 16 fonts, 0 dirs\n",
            "/usr/share/fonts/truetype/nanum: caching, new cache contents: 12 fonts, 0 dirs\n",
            "/usr/local/share/fonts: caching, new cache contents: 0 fonts, 0 dirs\n",
            "/root/.local/share/fonts: skipping, no such directory\n",
            "/root/.fonts: skipping, no such directory\n",
            "/usr/share/fonts/truetype: skipping, looped directory detected\n",
            "/usr/share/fonts/truetype/humor-sans: skipping, looped directory detected\n",
            "/usr/share/fonts/truetype/liberation: skipping, looped directory detected\n",
            "/usr/share/fonts/truetype/nanum: skipping, looped directory detected\n",
            "/var/cache/fontconfig: cleaning cache directory\n",
            "/root/.cache/fontconfig: not cleaning non-existent cache directory\n",
            "/root/.fontconfig: not cleaning non-existent cache directory\n",
            "fc-cache: succeeded\n"
          ]
        }
      ]
    },
    {
      "cell_type": "code",
      "execution_count": 3,
      "metadata": {
        "id": "0HV8GH2APA5Z"
      },
      "outputs": [],
      "source": [
        "import pandas as pd\n",
        "import numpy as np\n",
        "import matplotlib.pyplot as plt"
      ]
    },
    {
      "cell_type": "code",
      "execution_count": 4,
      "metadata": {
        "id": "y_Egb-OLPA5g"
      },
      "outputs": [],
      "source": [
        "#최대한 간결하게 적느라 빼놓았지만,\n",
        "#.head(), .info(), .value_counts(), .isnull().sum() 등을 활용하여\n",
        "#전처리 후 데이터가 어떻게 변화되는지 확인하는 것이 좋을 것 같습니다!"
      ]
    },
    {
      "cell_type": "code",
      "execution_count": 5,
      "metadata": {
        "id": "YWrKjEFQPA5i"
      },
      "outputs": [],
      "source": [
        "#한글 폰트(아래 feature importance 그래프에서 한글이 깨지는 것을 방지하기 위해)\n",
        "plt.rc('font', family='NanumBarunGothic')"
      ]
    },
    {
      "cell_type": "markdown",
      "source": [
        "# Data Load"
      ],
      "metadata": {
        "id": "HYpMV_swSFcp"
      }
    },
    {
      "cell_type": "code",
      "source": [
        "from google.colab import drive\n",
        "drive.mount('/content/drive')"
      ],
      "metadata": {
        "colab": {
          "base_uri": "https://localhost:8080/"
        },
        "id": "pCwKPTFYPfpY",
        "outputId": "82680b9e-6e55-4f3b-e118-bfd8c84f81ce"
      },
      "execution_count": 6,
      "outputs": [
        {
          "output_type": "stream",
          "name": "stdout",
          "text": [
            "Mounted at /content/drive\n"
          ]
        }
      ]
    },
    {
      "cell_type": "code",
      "execution_count": 7,
      "metadata": {
        "id": "fCrhC1UQPA5n"
      },
      "outputs": [],
      "source": [
        "train = pd.read_csv('/content/drive/My Drive/Aimers6/train.csv').drop(columns=['ID'])\n",
        "test = pd.read_csv('/content/drive/My Drive/Aimers6/test.csv').drop(columns=['ID'])"
      ]
    },
    {
      "cell_type": "code",
      "execution_count": 8,
      "metadata": {
        "id": "4TkBY4zePA5o"
      },
      "outputs": [],
      "source": [
        "X = train#.drop('임신 성공 여부', axis=1) #몇몇 피처는 target 인코딩 할 것이기 때문에, 그 후에 드랍하였습니다.\n",
        "y = train['임신 성공 여부']"
      ]
    },
    {
      "cell_type": "markdown",
      "source": [
        "# Data Pre-processing"
      ],
      "metadata": {
        "id": "BlAJhPVSSBvq"
      }
    },
    {
      "cell_type": "code",
      "execution_count": 9,
      "metadata": {
        "id": "bVEbTOB1PA5r"
      },
      "outputs": [],
      "source": [
        "# \"알 수 없음\"을 \"만43-44세\"로 변경하였는데, 다른 나이 구간으로 해보셔도 될 것 같습니다.\n",
        "X['시술 당시 나이'] = X['시술 당시 나이'].replace('알 수 없음', '만43-44세')\n",
        "test['시술 당시 나이'] = test['시술 당시 나이'].replace('알 수 없음', '만43-44세')\n",
        "\n",
        "# Target Encoding 적용\n",
        "age_success_rate = X.groupby(\"시술 당시 나이\")[\"임신 성공 여부\"].mean()\n",
        "X['시술 당시 나이'] = X['시술 당시 나이'].map(age_success_rate)\n",
        "test['시술 당시 나이'] = test['시술 당시 나이'].map(age_success_rate)\n"
      ]
    },
    {
      "cell_type": "code",
      "execution_count": 10,
      "metadata": {
        "colab": {
          "base_uri": "https://localhost:8080/"
        },
        "id": "fvmFDtU_PA5s",
        "outputId": "30c19e8a-3114-4fc7-f7e5-b1b1e21c58f0"
      },
      "outputs": [
        {
          "output_type": "stream",
          "name": "stdout",
          "text": [
            "배아 생성 주요 이유\n",
            "Treatment    240025\n",
            "Fail          12434\n",
            "Success        3892\n",
            "Name: count, dtype: int64\n"
          ]
        }
      ],
      "source": [
        "# 배아 생성 주요 이유 그룹화 (Treatment, Success, Fail)           #EDA 결과 임신 성공률에 차이가 나서 그룹화 해보았음.\n",
        "reason_mapping = {\n",
        "    '현재 시술용': 'Treatment',\n",
        "    '기증용, 배아 저장용, 현재 시술용': 'Success',\n",
        "    '기증용, 현재 시술용': 'Success',\n",
        "    '난자 저장용, 현재 시술용': 'Success',\n",
        "    '배아 저장용, 현재 시술용': 'Success',\n",
        "\n",
        "    '기증용': 'Fail',\n",
        "    '기증용, 난자 저장용': 'Fail',\n",
        "    '기증용, 배아 저장용': 'Fail',\n",
        "    '난자 저장용, 배아 저장용': 'Fail',\n",
        "    '난자 저장용': 'Fail',\n",
        "    '배아 저장용': 'Fail',\n",
        "    '연구용, 배아 저장용, 연구용': 'Fail',\n",
        "    '배아 저장용, 연구용, 현재 시술용': 'Fail'\n",
        "}\n",
        "\n",
        "# 데이터 변환 적용\n",
        "X['배아 생성 주요 이유'] = X['배아 생성 주요 이유'].map(reason_mapping).fillna('Treatment')\n",
        "\n",
        "# 변환 결과 확인\n",
        "print(X['배아 생성 주요 이유'].value_counts())\n"
      ]
    },
    {
      "cell_type": "code",
      "execution_count": 11,
      "metadata": {
        "id": "BuYG21JcPA5u"
      },
      "outputs": [],
      "source": [
        "# 각 그룹별 평균 임신 성공률 계산\n",
        "success_rate = X.groupby(\"배아 생성 주요 이유\")[\"임신 성공 여부\"].mean()\n",
        "\n",
        "# Target Encoding 적용\n",
        "X['배아 생성 주요 이유'] = X['배아 생성 주요 이유'].map(success_rate)"
      ]
    },
    {
      "cell_type": "code",
      "execution_count": 12,
      "metadata": {
        "id": "wMRUj5rGPA5u"
      },
      "outputs": [],
      "source": [
        "#test에도 똑같이 적용\n",
        "test['배아 생성 주요 이유'] = test['배아 생성 주요 이유'].map(reason_mapping).fillna('Treatment')\n",
        "test['배아 생성 주요 이유'] = test['배아 생성 주요 이유'].map(success_rate)"
      ]
    },
    {
      "cell_type": "code",
      "execution_count": 13,
      "metadata": {
        "colab": {
          "base_uri": "https://localhost:8080/"
        },
        "id": "DcRtkka7PA5v",
        "outputId": "14b6e55b-a3d1-4cc3-81fd-21918503cbb9"
      },
      "outputs": [
        {
          "output_type": "stream",
          "name": "stdout",
          "text": [
            "난자 출처\n",
            "본인 제공    240582\n",
            "기증 제공     15769\n",
            "Name: count, dtype: int64\n"
          ]
        }
      ],
      "source": [
        "# '난자 출처' 피처의 '알 수 없음' 값을 '본인 제공' 값으로(최빈값으로) 변환\n",
        "X['난자 출처'] = X['난자 출처'].replace('알 수 없음', '본인 제공')\n",
        "\n",
        "# 결과 확인\n",
        "print(X['난자 출처'].value_counts())"
      ]
    },
    {
      "cell_type": "code",
      "execution_count": 14,
      "metadata": {
        "colab": {
          "base_uri": "https://localhost:8080/"
        },
        "id": "JMfq_NMxPA5v",
        "outputId": "e24ff3c1-ce57-41c1-e50d-d1afd02d0ef8"
      },
      "outputs": [
        {
          "output_type": "stream",
          "name": "stdout",
          "text": [
            "난자 출처\n",
            "본인 제공    84573\n",
            "기증 제공     5494\n",
            "Name: count, dtype: int64\n"
          ]
        }
      ],
      "source": [
        "test['난자 출처'] = test['난자 출처'].replace('알 수 없음', '본인 제공')\n",
        "\n",
        "print(test['난자 출처'].value_counts())"
      ]
    },
    {
      "cell_type": "code",
      "source": [
        "X.loc[X[\"난자 출처\"] == \"본인 제공\", \"난자 출처\"] = 0\n",
        "X.loc[X[\"난자 출처\"] == \"기증 제공\", \"난자 출처\"] = 1\n",
        "\n",
        "X.loc[X[\"정자 출처\"] == \"배우자 제공\", \"정자 출처\"] = 0\n",
        "X.loc[X[\"정자 출처\"] == \"기증 제공\", \"정자 출처\"] = 1\n",
        "X.loc[X[\"정자 출처\"] == \"미할당\", \"정자 출처\"] = 0\n",
        "X.loc[X[\"정자 출처\"] == \"배우자 및 기증 제공\", \"정자 출처\"] = 0"
      ],
      "metadata": {
        "id": "L0xNQCiAyHsd"
      },
      "execution_count": 15,
      "outputs": []
    },
    {
      "cell_type": "code",
      "source": [
        "test.loc[test[\"난자 출처\"] == \"본인 제공\", \"난자 출처\"] = 0\n",
        "test.loc[test[\"난자 출처\"] == \"기증 제공\", \"난자 출처\"] = 1\n",
        "\n",
        "test.loc[test[\"정자 출처\"] == \"배우자 제공\", \"정자 출처\"] = 0\n",
        "test.loc[test[\"정자 출처\"] == \"기증 제공\", \"정자 출처\"] = 1\n",
        "test.loc[test[\"정자 출처\"] == \"미할당\", \"정자 출처\"] = 0\n",
        "test.loc[test[\"정자 출처\"] == \"배우자 및 기증 제공\", \"정자 출처\"] = 0"
      ],
      "metadata": {
        "id": "YTT5c_Q4yHVQ"
      },
      "execution_count": 16,
      "outputs": []
    },
    {
      "cell_type": "code",
      "execution_count": 17,
      "metadata": {
        "id": "JpzZ_gVVPA5v"
      },
      "outputs": [],
      "source": [
        "# X = X.drop('불임 원인 - 여성 요인', axis=1)\n",
        "X = X.drop('난자 채취 경과일', axis=1)\n",
        "X = X.drop('난자 해동 경과일', axis=1)\n",
        "X = X.drop('난자 혼합 경과일', axis=1)\n",
        "# X = X.drop('불임 원인 - 정자 면역학적 요인', axis=1)\n",
        "# X = X.drop('불임 원인 - 정자 운동성', axis=1)\n",
        "# X = X.drop('불임 원인 - 자궁경부 문제', axis=1)\n",
        "# X = X.drop('불임 원인 - 정자 형태', axis=1)\n",
        "X = X.drop('배아 해동 경과일', axis=1)\n",
        "# X = X.drop('불임 원인 - 정자 농도', axis=1)\n",
        "X = X.drop('시술 유형', axis=1)\n",
        "X = X.drop('임신 시도 또는 마지막 임신 경과 연수', axis=1)\n",
        "X = X.drop('착상 전 유전 검사 사용 여부', axis=1)\n",
        "X = X.drop('PGD 시술 여부', axis=1)\n",
        "X = X.drop('PGS 시술 여부', axis=1)\n",
        "X = X.drop('배란 유도 유형', axis=1)\n",
        "\n",
        "X = X.drop('DI 시술 횟수', axis=1)\n",
        "X = X.drop('DI 임신 횟수', axis=1)\n",
        "X = X.drop('DI 출산 횟수', axis=1)"
      ]
    },
    {
      "cell_type": "code",
      "execution_count": 18,
      "metadata": {
        "id": "Gh2UIIHtPA5w"
      },
      "outputs": [],
      "source": [
        "# test = test.drop('불임 원인 - 여성 요인', axis=1)\n",
        "test = test.drop('난자 채취 경과일', axis=1)\n",
        "test = test.drop('난자 해동 경과일', axis=1)\n",
        "test = test.drop('난자 혼합 경과일', axis=1)\n",
        "# test = test.drop('불임 원인 - 정자 면역학적 요인', axis=1)\n",
        "# test = test.drop('불임 원인 - 정자 운동성', axis=1)\n",
        "# test = test.drop('불임 원인 - 자궁경부 문제', axis=1)\n",
        "# test = test.drop('불임 원인 - 정자 형태', axis=1)\n",
        "test = test.drop('배아 해동 경과일', axis=1)\n",
        "# test = test.drop('불임 원인 - 정자 농도', axis=1)\n",
        "test = test.drop('시술 유형', axis=1)\n",
        "test = test.drop('임신 시도 또는 마지막 임신 경과 연수', axis=1)\n",
        "test = test.drop('착상 전 유전 검사 사용 여부', axis=1)\n",
        "test = test.drop('PGD 시술 여부', axis=1)\n",
        "test = test.drop('PGS 시술 여부', axis=1)\n",
        "test = test.drop('배란 유도 유형', axis=1)\n",
        "\n",
        "test = test.drop('DI 시술 횟수', axis=1)\n",
        "test = test.drop('DI 임신 횟수', axis=1)\n",
        "test = test.drop('DI 출산 횟수', axis=1)"
      ]
    },
    {
      "cell_type": "code",
      "execution_count": 19,
      "metadata": {
        "id": "j1DLi-mkPA5w"
      },
      "outputs": [],
      "source": [
        "#'시술 시기 코드'에 One-Hot Encoding 적용\n",
        "from sklearn.preprocessing import OneHotEncoder\n",
        "\n",
        "# One-Hot Encoding 적용 열\n",
        "one_hot_cols = ['시술 시기 코드']\n",
        "\n",
        "# One-Hot Encoding 적용\n",
        "one_hot_encoder = OneHotEncoder(sparse_output=False, handle_unknown='ignore')\n",
        "\n",
        "# Train 데이터 변환\n",
        "onehot_encoded = one_hot_encoder.fit_transform(X[one_hot_cols])\n",
        "onehot_encoded_df = pd.DataFrame(onehot_encoded, columns=one_hot_encoder.get_feature_names_out(one_hot_cols), index=X.index)\n",
        "\n",
        "# 기존 데이터와 병합\n",
        "X = pd.concat([X.drop(columns=one_hot_cols), onehot_encoded_df], axis=1)"
      ]
    },
    {
      "cell_type": "code",
      "execution_count": 20,
      "metadata": {
        "id": "hl4BHXryPA5w"
      },
      "outputs": [],
      "source": [
        "#one-hot encoding\n",
        "test_encoded = one_hot_encoder.transform(test[one_hot_cols])\n",
        "test_encoded_df = pd.DataFrame(test_encoded, columns=one_hot_encoder.get_feature_names_out(one_hot_cols), index=test.index)\n",
        "\n",
        "# 기존 데이터와 병합\n",
        "test = pd.concat([test.drop(columns=one_hot_cols), test_encoded_df], axis=1)"
      ]
    },
    {
      "cell_type": "code",
      "execution_count": 21,
      "metadata": {
        "id": "lC-cUTStPA5w"
      },
      "outputs": [],
      "source": [
        "categorical_columns = [\n",
        "    # \"시술 시기 코드\", #one-hot\n",
        "    # \"시술 당시 나이\", #target-encoder\n",
        "    # \"시술 유형\", #삭제\n",
        "    \"특정 시술 유형\", #기회되면 target-encoder\n",
        "    \"배란 자극 여부\", #ordinal\n",
        "    # \"배란 유도 유형\", #삭제\n",
        "    \"단일 배아 이식 여부\", #ordinal\n",
        "    # \"착상 전 유전 검사 사용 여부\", #삭제\n",
        "    \"착상 전 유전 진단 사용 여부\", #ordinal\n",
        "    \"남성 주 불임 원인\", #ordinal\n",
        "    \"남성 부 불임 원인\", #ordinal\n",
        "    \"여성 주 불임 원인\", #ordinal\n",
        "    \"여성 부 불임 원인\", #ordinal\n",
        "    \"부부 주 불임 원인\", #ordinal\n",
        "    \"부부 부 불임 원인\", #ordinal\n",
        "    \"불명확 불임 원인\", #ordinal\n",
        "    \"불임 원인 - 난관 질환\", #ordinal\n",
        "    \"불임 원인 - 남성 요인\", #ordinal\n",
        "    \"불임 원인 - 배란 장애\", #ordinal\n",
        "    \"불임 원인 - 여성 요인\", #삭제\n",
        "    \"불임 원인 - 자궁경부 문제\", #삭제\n",
        "    \"불임 원인 - 자궁내막증\", #ordinal\n",
        "    \"불임 원인 - 정자 농도\", #삭제\n",
        "    \"불임 원인 - 정자 면역학적 요인\", #삭제\n",
        "    \"불임 원인 - 정자 운동성\", #삭제\n",
        "    \"불임 원인 - 정자 형태\", #삭제\n",
        "    # \"배아 생성 주요 이유\", #그룹화, target-encoder\n",
        "    \"총 시술 횟수\", #ordinal, 추후에 target 고민\n",
        "    \"클리닉 내 총 시술 횟수\", #ordinal, 추후에 target 고민\n",
        "    \"IVF 시술 횟수\", #ordinal, 추후에 target 고민\n",
        "    #\"DI 시술 횟수\", #ordinal\n",
        "    \"총 임신 횟수\", #ordinal\n",
        "    \"IVF 임신 횟수\", #ordinal\n",
        "    #\"DI 임신 횟수\", #ordinal\n",
        "    \"총 출산 횟수\", #ordinal\n",
        "    \"IVF 출산 횟수\", #ordinal\n",
        "    #\"DI 출산 횟수\", #ordinal\n",
        "    \"난자 출처\", #ordinal, '알 수 없음' -> '본인 제공'\n",
        "    \"정자 출처\", #ordinal\n",
        "    \"난자 기증자 나이\", #ordinal\n",
        "    \"정자 기증자 나이\", #ordinal\n",
        "    \"동결 배아 사용 여부\", #ordinal, 삭제 고민\n",
        "    \"신선 배아 사용 여부\", #ordinal, 삭제 고민\n",
        "    \"기증 배아 사용 여부\", #ordinal, 삭제 고민\n",
        "    \"대리모 여부\",#ordinal, 삭제 고민\n",
        "    # \"PGD 시술 여부\", #삭제\n",
        "    # \"PGS 시술 여부\" #삭제\n",
        "]"
      ]
    },
    {
      "cell_type": "code",
      "execution_count": 22,
      "metadata": {
        "id": "Zjko_BRMPA52"
      },
      "outputs": [],
      "source": [
        "# 카테고리형 컬럼들을 문자열로 변환\n",
        "for col in categorical_columns:\n",
        "    X[col] = X[col].astype(str)\n",
        "    test[col] = test[col].astype(str)"
      ]
    },
    {
      "cell_type": "code",
      "execution_count": 23,
      "metadata": {
        "id": "oaHSPFndPA52"
      },
      "outputs": [],
      "source": [
        "#Ordinal Encoding 적용\n",
        "from sklearn.preprocessing import  OrdinalEncoder\n",
        "\n",
        "ordinal_encoder = OrdinalEncoder(handle_unknown='use_encoded_value', unknown_value=-1)\n",
        "\n",
        "X_train_encoded = X.copy()\n",
        "X_train_encoded[categorical_columns] = ordinal_encoder.fit_transform(X[categorical_columns])\n",
        "\n",
        "X_test_encoded = test.copy()\n",
        "X_test_encoded[categorical_columns] = ordinal_encoder.transform(test[categorical_columns])"
      ]
    },
    {
      "cell_type": "code",
      "execution_count": 24,
      "metadata": {
        "id": "oEUQOzc2PA52"
      },
      "outputs": [],
      "source": [
        "#수치형 칼럼\n",
        "\n",
        "numeric_columns = [\n",
        "    # \"임신 시도 또는 마지막 임신 경과 연수\", #삭제\n",
        "    \"총 생성 배아 수\", #결측치 0 대체\n",
        "    \"미세주입된 난자 수\", #결측치 0 대체\n",
        "    \"미세주입에서 생성된 배아 수\", #결측치 0 대체\n",
        "    # \"이식된 배아 수\", #결측치 2로 대체\n",
        "    \"미세주입 배아 이식 수\", #결측치 0 대체\n",
        "    \"저장된 배아 수\", #결측치 0 대체\n",
        "    \"미세주입 후 저장된 배아 수\", #결측치 0 대체\n",
        "    \"해동된 배아 수\", #결측치 0 대체\n",
        "    \"해동 난자 수\", #결측치 0 대체\n",
        "    \"수집된 신선 난자 수\", #결측치 0 대체\n",
        "    \"저장된 신선 난자 수\", #결측치 0 대체\n",
        "    \"혼합된 난자 수\", #결측치 0 대체\n",
        "    \"파트너 정자와 혼합된 난자 수\", #결측치 0 대체\n",
        "    \"기증자 정자와 혼합된 난자 수\", #결측치 0 대체\n",
        "    # \"난자 채취 경과일\", #삭제\n",
        "    # \"난자 해동 경과일\", #삭제\n",
        "    # \"난자 혼합 경과일\", #삭제\n",
        "    \"배아 이식 경과일\",\n",
        "    # \"배아 해동 경과일\" #삭제\n",
        "]"
      ]
    },
    {
      "cell_type": "code",
      "execution_count": 25,
      "metadata": {
        "id": "lRSh69iPPA53"
      },
      "outputs": [],
      "source": [
        "#\"이식된 배아 수\"는 최빈값이 2이므로 따로 빼서 결측치를 2로 대체\n",
        "numeric_fillna_2 = [\n",
        "    \"이식된 배아 수\"\n",
        "]"
      ]
    },
    {
      "cell_type": "code",
      "execution_count": 26,
      "metadata": {
        "id": "hezbJTI8PA53"
      },
      "outputs": [],
      "source": [
        "X_train_encoded[numeric_columns] = X_train_encoded[numeric_columns].fillna(0) #나머지\n",
        "X_train_encoded[numeric_fillna_2] = X_train_encoded[numeric_fillna_2].fillna(2) #이식된 배아 수\n",
        "\n",
        "X_test_encoded[numeric_columns] = X_test_encoded[numeric_columns].fillna(0)\n",
        "X_test_encoded[numeric_fillna_2] = X_test_encoded[numeric_fillna_2].fillna(2)"
      ]
    },
    {
      "cell_type": "code",
      "execution_count": 27,
      "metadata": {
        "id": "_tJhMVdePA53"
      },
      "outputs": [],
      "source": [
        "X_train_encoded = X_train_encoded.drop(columns=['임신 성공 여부']) #처음에 안빼줬던 target 변수 빼주기"
      ]
    },
    {
      "cell_type": "markdown",
      "source": [
        "# Model Training"
      ],
      "metadata": {
        "id": "5gj99gQuSWmh"
      }
    },
    {
      "cell_type": "code",
      "source": [
        "X_train_encoded.info()"
      ],
      "metadata": {
        "colab": {
          "base_uri": "https://localhost:8080/"
        },
        "id": "5XRplZ007pGV",
        "outputId": "dc6ad460-1b5e-4655-b532-1d82accca3c3"
      },
      "execution_count": 28,
      "outputs": [
        {
          "output_type": "stream",
          "name": "stdout",
          "text": [
            "<class 'pandas.core.frame.DataFrame'>\n",
            "RangeIndex: 256351 entries, 0 to 256350\n",
            "Data columns (total 60 columns):\n",
            " #   Column              Non-Null Count   Dtype  \n",
            "---  ------              --------------   -----  \n",
            " 0   시술 당시 나이            256351 non-null  float64\n",
            " 1   특정 시술 유형            256351 non-null  float64\n",
            " 2   배란 자극 여부            256351 non-null  float64\n",
            " 3   단일 배아 이식 여부         256351 non-null  float64\n",
            " 4   착상 전 유전 진단 사용 여부    256351 non-null  float64\n",
            " 5   남성 주 불임 원인          256351 non-null  float64\n",
            " 6   남성 부 불임 원인          256351 non-null  float64\n",
            " 7   여성 주 불임 원인          256351 non-null  float64\n",
            " 8   여성 부 불임 원인          256351 non-null  float64\n",
            " 9   부부 주 불임 원인          256351 non-null  float64\n",
            " 10  부부 부 불임 원인          256351 non-null  float64\n",
            " 11  불명확 불임 원인           256351 non-null  float64\n",
            " 12  불임 원인 - 난관 질환       256351 non-null  float64\n",
            " 13  불임 원인 - 남성 요인       256351 non-null  float64\n",
            " 14  불임 원인 - 배란 장애       256351 non-null  float64\n",
            " 15  불임 원인 - 여성 요인       256351 non-null  float64\n",
            " 16  불임 원인 - 자궁경부 문제     256351 non-null  float64\n",
            " 17  불임 원인 - 자궁내막증       256351 non-null  float64\n",
            " 18  불임 원인 - 정자 농도       256351 non-null  float64\n",
            " 19  불임 원인 - 정자 면역학적 요인  256351 non-null  float64\n",
            " 20  불임 원인 - 정자 운동성      256351 non-null  float64\n",
            " 21  불임 원인 - 정자 형태       256351 non-null  float64\n",
            " 22  배아 생성 주요 이유         256351 non-null  float64\n",
            " 23  총 시술 횟수             256351 non-null  float64\n",
            " 24  클리닉 내 총 시술 횟수       256351 non-null  float64\n",
            " 25  IVF 시술 횟수           256351 non-null  float64\n",
            " 26  총 임신 횟수             256351 non-null  float64\n",
            " 27  IVF 임신 횟수           256351 non-null  float64\n",
            " 28  총 출산 횟수             256351 non-null  float64\n",
            " 29  IVF 출산 횟수           256351 non-null  float64\n",
            " 30  총 생성 배아 수           256351 non-null  float64\n",
            " 31  미세주입된 난자 수          256351 non-null  float64\n",
            " 32  미세주입에서 생성된 배아 수     256351 non-null  float64\n",
            " 33  이식된 배아 수            256351 non-null  float64\n",
            " 34  미세주입 배아 이식 수        256351 non-null  float64\n",
            " 35  저장된 배아 수            256351 non-null  float64\n",
            " 36  미세주입 후 저장된 배아 수     256351 non-null  float64\n",
            " 37  해동된 배아 수            256351 non-null  float64\n",
            " 38  해동 난자 수             256351 non-null  float64\n",
            " 39  수집된 신선 난자 수         256351 non-null  float64\n",
            " 40  저장된 신선 난자 수         256351 non-null  float64\n",
            " 41  혼합된 난자 수            256351 non-null  float64\n",
            " 42  파트너 정자와 혼합된 난자 수    256351 non-null  float64\n",
            " 43  기증자 정자와 혼합된 난자 수    256351 non-null  float64\n",
            " 44  난자 출처               256351 non-null  float64\n",
            " 45  정자 출처               256351 non-null  float64\n",
            " 46  난자 기증자 나이           256351 non-null  float64\n",
            " 47  정자 기증자 나이           256351 non-null  float64\n",
            " 48  동결 배아 사용 여부         256351 non-null  float64\n",
            " 49  신선 배아 사용 여부         256351 non-null  float64\n",
            " 50  기증 배아 사용 여부         256351 non-null  float64\n",
            " 51  대리모 여부              256351 non-null  float64\n",
            " 52  배아 이식 경과일           256351 non-null  float64\n",
            " 53  시술 시기 코드_TRCMWS     256351 non-null  float64\n",
            " 54  시술 시기 코드_TRDQAZ     256351 non-null  float64\n",
            " 55  시술 시기 코드_TRJXFG     256351 non-null  float64\n",
            " 56  시술 시기 코드_TRVNRY     256351 non-null  float64\n",
            " 57  시술 시기 코드_TRXQMD     256351 non-null  float64\n",
            " 58  시술 시기 코드_TRYBLT     256351 non-null  float64\n",
            " 59  시술 시기 코드_TRZKPL     256351 non-null  float64\n",
            "dtypes: float64(60)\n",
            "memory usage: 117.3 MB\n"
          ]
        }
      ]
    },
    {
      "cell_type": "code",
      "source": [
        "import tensorflow as tf\n",
        "from tensorflow.keras.models import Sequential\n",
        "from tensorflow.keras.layers import Dense, Dropout, BatchNormalization\n",
        "from tensorflow.keras.optimizers import Adam\n",
        "from tensorflow.keras.callbacks import EarlyStopping\n",
        "from sklearn.model_selection import StratifiedKFold, cross_val_score\n",
        "\n",
        "# Model Architecture\n",
        "model = Sequential([\n",
        "    Dense(60, activation='relu', input_shape=(60,)),  # Input Layer\n",
        "    # Dense(32, activation='relu'),\n",
        "    Dense(64, activation='relu'),\n",
        "    Dropout(0.1),\n",
        "    Dense(128, activation='relu'),\n",
        "    Dense(256, activation='relu'),\n",
        "    BatchNormalization(),\n",
        "    Dense(512, activation='relu'),\n",
        "    # Dense(1024, activation='relu'),\n",
        "    Dropout(0.2),\n",
        "    # Dense(512, activation='relu'),\n",
        "    Dense(256, activation='relu'),\n",
        "    Dense(128, activation='relu'),\n",
        "    Dropout(0.1),\n",
        "    Dense(64, activation='relu'),\n",
        "    Dense(32, activation='relu'),\n",
        "    Dense(1, activation='sigmoid')  # Output Layer\n",
        "])\n",
        "\n",
        "# Training Parameters\n",
        "input_size = (None, 60)  # (batch_size, input_features) - batch_size is inferred during training\n",
        "output_size = (None, 1)  # (batch_size, output_units)\n",
        "total_dense_layers = 9\n",
        "regularization = \"Batch Normalization, Dropout\"\n",
        "batch_size = 128\n",
        "optimizer = Adam()\n",
        "loss = 'binary_crossentropy'\n",
        "epochs = 50\n",
        "callbacks = [EarlyStopping(patience=5)]  # Early Stopping callback\n",
        "\n",
        "# Compile the model\n",
        "model.compile(optimizer=optimizer, loss=loss, metrics=['accuracy'])\n",
        "\n",
        "# Print model summary\n",
        "model.summary()\n",
        "\n",
        "# Dummy data for demonstration (replace with your actual data)\n",
        "import numpy as np\n",
        "X_train = np.random.rand(1000, 60)  # 1000 samples, 25 features\n",
        "y_train = np.random.randint(0, 2, size=(1000, 1))  # Binary classification labels\n",
        "\n",
        "# Train the model\n",
        "model.fit(X_train_encoded, y, epochs=epochs, batch_size=batch_size, callbacks=callbacks, validation_split=0.2)\n",
        "\n",
        "# Evaluate the model (optional)\n",
        "# loss, accuracy = model.evaluate(X_test, y_test)\n",
        "# print(f\"Loss: {loss}, Accuracy: {accuracy}\")"
      ],
      "metadata": {
        "colab": {
          "base_uri": "https://localhost:8080/",
          "height": 1000
        },
        "id": "1FPoSEbixuGU",
        "outputId": "2234e31e-ec3c-4655-a6f6-6c07ec3275f9"
      },
      "execution_count": 29,
      "outputs": [
        {
          "output_type": "stream",
          "name": "stderr",
          "text": [
            "/usr/local/lib/python3.11/dist-packages/keras/src/layers/core/dense.py:87: UserWarning: Do not pass an `input_shape`/`input_dim` argument to a layer. When using Sequential models, prefer using an `Input(shape)` object as the first layer in the model instead.\n",
            "  super().__init__(activity_regularizer=activity_regularizer, **kwargs)\n"
          ]
        },
        {
          "output_type": "display_data",
          "data": {
            "text/plain": [
              "\u001b[1mModel: \"sequential\"\u001b[0m\n"
            ],
            "text/html": [
              "<pre style=\"white-space:pre;overflow-x:auto;line-height:normal;font-family:Menlo,'DejaVu Sans Mono',consolas,'Courier New',monospace\"><span style=\"font-weight: bold\">Model: \"sequential\"</span>\n",
              "</pre>\n"
            ]
          },
          "metadata": {}
        },
        {
          "output_type": "display_data",
          "data": {
            "text/plain": [
              "┏━━━━━━━━━━━━━━━━━━━━━━━━━━━━━━━━━━━━━━┳━━━━━━━━━━━━━━━━━━━━━━━━━━━━━┳━━━━━━━━━━━━━━━━━┓\n",
              "┃\u001b[1m \u001b[0m\u001b[1mLayer (type)                        \u001b[0m\u001b[1m \u001b[0m┃\u001b[1m \u001b[0m\u001b[1mOutput Shape               \u001b[0m\u001b[1m \u001b[0m┃\u001b[1m \u001b[0m\u001b[1m        Param #\u001b[0m\u001b[1m \u001b[0m┃\n",
              "┡━━━━━━━━━━━━━━━━━━━━━━━━━━━━━━━━━━━━━━╇━━━━━━━━━━━━━━━━━━━━━━━━━━━━━╇━━━━━━━━━━━━━━━━━┩\n",
              "│ dense (\u001b[38;5;33mDense\u001b[0m)                        │ (\u001b[38;5;45mNone\u001b[0m, \u001b[38;5;34m60\u001b[0m)                  │           \u001b[38;5;34m3,660\u001b[0m │\n",
              "├──────────────────────────────────────┼─────────────────────────────┼─────────────────┤\n",
              "│ dense_1 (\u001b[38;5;33mDense\u001b[0m)                      │ (\u001b[38;5;45mNone\u001b[0m, \u001b[38;5;34m64\u001b[0m)                  │           \u001b[38;5;34m3,904\u001b[0m │\n",
              "├──────────────────────────────────────┼─────────────────────────────┼─────────────────┤\n",
              "│ dropout (\u001b[38;5;33mDropout\u001b[0m)                    │ (\u001b[38;5;45mNone\u001b[0m, \u001b[38;5;34m64\u001b[0m)                  │               \u001b[38;5;34m0\u001b[0m │\n",
              "├──────────────────────────────────────┼─────────────────────────────┼─────────────────┤\n",
              "│ dense_2 (\u001b[38;5;33mDense\u001b[0m)                      │ (\u001b[38;5;45mNone\u001b[0m, \u001b[38;5;34m128\u001b[0m)                 │           \u001b[38;5;34m8,320\u001b[0m │\n",
              "├──────────────────────────────────────┼─────────────────────────────┼─────────────────┤\n",
              "│ dense_3 (\u001b[38;5;33mDense\u001b[0m)                      │ (\u001b[38;5;45mNone\u001b[0m, \u001b[38;5;34m256\u001b[0m)                 │          \u001b[38;5;34m33,024\u001b[0m │\n",
              "├──────────────────────────────────────┼─────────────────────────────┼─────────────────┤\n",
              "│ batch_normalization                  │ (\u001b[38;5;45mNone\u001b[0m, \u001b[38;5;34m256\u001b[0m)                 │           \u001b[38;5;34m1,024\u001b[0m │\n",
              "│ (\u001b[38;5;33mBatchNormalization\u001b[0m)                 │                             │                 │\n",
              "├──────────────────────────────────────┼─────────────────────────────┼─────────────────┤\n",
              "│ dense_4 (\u001b[38;5;33mDense\u001b[0m)                      │ (\u001b[38;5;45mNone\u001b[0m, \u001b[38;5;34m512\u001b[0m)                 │         \u001b[38;5;34m131,584\u001b[0m │\n",
              "├──────────────────────────────────────┼─────────────────────────────┼─────────────────┤\n",
              "│ dropout_1 (\u001b[38;5;33mDropout\u001b[0m)                  │ (\u001b[38;5;45mNone\u001b[0m, \u001b[38;5;34m512\u001b[0m)                 │               \u001b[38;5;34m0\u001b[0m │\n",
              "├──────────────────────────────────────┼─────────────────────────────┼─────────────────┤\n",
              "│ dense_5 (\u001b[38;5;33mDense\u001b[0m)                      │ (\u001b[38;5;45mNone\u001b[0m, \u001b[38;5;34m256\u001b[0m)                 │         \u001b[38;5;34m131,328\u001b[0m │\n",
              "├──────────────────────────────────────┼─────────────────────────────┼─────────────────┤\n",
              "│ dense_6 (\u001b[38;5;33mDense\u001b[0m)                      │ (\u001b[38;5;45mNone\u001b[0m, \u001b[38;5;34m128\u001b[0m)                 │          \u001b[38;5;34m32,896\u001b[0m │\n",
              "├──────────────────────────────────────┼─────────────────────────────┼─────────────────┤\n",
              "│ dropout_2 (\u001b[38;5;33mDropout\u001b[0m)                  │ (\u001b[38;5;45mNone\u001b[0m, \u001b[38;5;34m128\u001b[0m)                 │               \u001b[38;5;34m0\u001b[0m │\n",
              "├──────────────────────────────────────┼─────────────────────────────┼─────────────────┤\n",
              "│ dense_7 (\u001b[38;5;33mDense\u001b[0m)                      │ (\u001b[38;5;45mNone\u001b[0m, \u001b[38;5;34m64\u001b[0m)                  │           \u001b[38;5;34m8,256\u001b[0m │\n",
              "├──────────────────────────────────────┼─────────────────────────────┼─────────────────┤\n",
              "│ dense_8 (\u001b[38;5;33mDense\u001b[0m)                      │ (\u001b[38;5;45mNone\u001b[0m, \u001b[38;5;34m32\u001b[0m)                  │           \u001b[38;5;34m2,080\u001b[0m │\n",
              "├──────────────────────────────────────┼─────────────────────────────┼─────────────────┤\n",
              "│ dense_9 (\u001b[38;5;33mDense\u001b[0m)                      │ (\u001b[38;5;45mNone\u001b[0m, \u001b[38;5;34m1\u001b[0m)                   │              \u001b[38;5;34m33\u001b[0m │\n",
              "└──────────────────────────────────────┴─────────────────────────────┴─────────────────┘\n"
            ],
            "text/html": [
              "<pre style=\"white-space:pre;overflow-x:auto;line-height:normal;font-family:Menlo,'DejaVu Sans Mono',consolas,'Courier New',monospace\">┏━━━━━━━━━━━━━━━━━━━━━━━━━━━━━━━━━━━━━━┳━━━━━━━━━━━━━━━━━━━━━━━━━━━━━┳━━━━━━━━━━━━━━━━━┓\n",
              "┃<span style=\"font-weight: bold\"> Layer (type)                         </span>┃<span style=\"font-weight: bold\"> Output Shape                </span>┃<span style=\"font-weight: bold\">         Param # </span>┃\n",
              "┡━━━━━━━━━━━━━━━━━━━━━━━━━━━━━━━━━━━━━━╇━━━━━━━━━━━━━━━━━━━━━━━━━━━━━╇━━━━━━━━━━━━━━━━━┩\n",
              "│ dense (<span style=\"color: #0087ff; text-decoration-color: #0087ff\">Dense</span>)                        │ (<span style=\"color: #00d7ff; text-decoration-color: #00d7ff\">None</span>, <span style=\"color: #00af00; text-decoration-color: #00af00\">60</span>)                  │           <span style=\"color: #00af00; text-decoration-color: #00af00\">3,660</span> │\n",
              "├──────────────────────────────────────┼─────────────────────────────┼─────────────────┤\n",
              "│ dense_1 (<span style=\"color: #0087ff; text-decoration-color: #0087ff\">Dense</span>)                      │ (<span style=\"color: #00d7ff; text-decoration-color: #00d7ff\">None</span>, <span style=\"color: #00af00; text-decoration-color: #00af00\">64</span>)                  │           <span style=\"color: #00af00; text-decoration-color: #00af00\">3,904</span> │\n",
              "├──────────────────────────────────────┼─────────────────────────────┼─────────────────┤\n",
              "│ dropout (<span style=\"color: #0087ff; text-decoration-color: #0087ff\">Dropout</span>)                    │ (<span style=\"color: #00d7ff; text-decoration-color: #00d7ff\">None</span>, <span style=\"color: #00af00; text-decoration-color: #00af00\">64</span>)                  │               <span style=\"color: #00af00; text-decoration-color: #00af00\">0</span> │\n",
              "├──────────────────────────────────────┼─────────────────────────────┼─────────────────┤\n",
              "│ dense_2 (<span style=\"color: #0087ff; text-decoration-color: #0087ff\">Dense</span>)                      │ (<span style=\"color: #00d7ff; text-decoration-color: #00d7ff\">None</span>, <span style=\"color: #00af00; text-decoration-color: #00af00\">128</span>)                 │           <span style=\"color: #00af00; text-decoration-color: #00af00\">8,320</span> │\n",
              "├──────────────────────────────────────┼─────────────────────────────┼─────────────────┤\n",
              "│ dense_3 (<span style=\"color: #0087ff; text-decoration-color: #0087ff\">Dense</span>)                      │ (<span style=\"color: #00d7ff; text-decoration-color: #00d7ff\">None</span>, <span style=\"color: #00af00; text-decoration-color: #00af00\">256</span>)                 │          <span style=\"color: #00af00; text-decoration-color: #00af00\">33,024</span> │\n",
              "├──────────────────────────────────────┼─────────────────────────────┼─────────────────┤\n",
              "│ batch_normalization                  │ (<span style=\"color: #00d7ff; text-decoration-color: #00d7ff\">None</span>, <span style=\"color: #00af00; text-decoration-color: #00af00\">256</span>)                 │           <span style=\"color: #00af00; text-decoration-color: #00af00\">1,024</span> │\n",
              "│ (<span style=\"color: #0087ff; text-decoration-color: #0087ff\">BatchNormalization</span>)                 │                             │                 │\n",
              "├──────────────────────────────────────┼─────────────────────────────┼─────────────────┤\n",
              "│ dense_4 (<span style=\"color: #0087ff; text-decoration-color: #0087ff\">Dense</span>)                      │ (<span style=\"color: #00d7ff; text-decoration-color: #00d7ff\">None</span>, <span style=\"color: #00af00; text-decoration-color: #00af00\">512</span>)                 │         <span style=\"color: #00af00; text-decoration-color: #00af00\">131,584</span> │\n",
              "├──────────────────────────────────────┼─────────────────────────────┼─────────────────┤\n",
              "│ dropout_1 (<span style=\"color: #0087ff; text-decoration-color: #0087ff\">Dropout</span>)                  │ (<span style=\"color: #00d7ff; text-decoration-color: #00d7ff\">None</span>, <span style=\"color: #00af00; text-decoration-color: #00af00\">512</span>)                 │               <span style=\"color: #00af00; text-decoration-color: #00af00\">0</span> │\n",
              "├──────────────────────────────────────┼─────────────────────────────┼─────────────────┤\n",
              "│ dense_5 (<span style=\"color: #0087ff; text-decoration-color: #0087ff\">Dense</span>)                      │ (<span style=\"color: #00d7ff; text-decoration-color: #00d7ff\">None</span>, <span style=\"color: #00af00; text-decoration-color: #00af00\">256</span>)                 │         <span style=\"color: #00af00; text-decoration-color: #00af00\">131,328</span> │\n",
              "├──────────────────────────────────────┼─────────────────────────────┼─────────────────┤\n",
              "│ dense_6 (<span style=\"color: #0087ff; text-decoration-color: #0087ff\">Dense</span>)                      │ (<span style=\"color: #00d7ff; text-decoration-color: #00d7ff\">None</span>, <span style=\"color: #00af00; text-decoration-color: #00af00\">128</span>)                 │          <span style=\"color: #00af00; text-decoration-color: #00af00\">32,896</span> │\n",
              "├──────────────────────────────────────┼─────────────────────────────┼─────────────────┤\n",
              "│ dropout_2 (<span style=\"color: #0087ff; text-decoration-color: #0087ff\">Dropout</span>)                  │ (<span style=\"color: #00d7ff; text-decoration-color: #00d7ff\">None</span>, <span style=\"color: #00af00; text-decoration-color: #00af00\">128</span>)                 │               <span style=\"color: #00af00; text-decoration-color: #00af00\">0</span> │\n",
              "├──────────────────────────────────────┼─────────────────────────────┼─────────────────┤\n",
              "│ dense_7 (<span style=\"color: #0087ff; text-decoration-color: #0087ff\">Dense</span>)                      │ (<span style=\"color: #00d7ff; text-decoration-color: #00d7ff\">None</span>, <span style=\"color: #00af00; text-decoration-color: #00af00\">64</span>)                  │           <span style=\"color: #00af00; text-decoration-color: #00af00\">8,256</span> │\n",
              "├──────────────────────────────────────┼─────────────────────────────┼─────────────────┤\n",
              "│ dense_8 (<span style=\"color: #0087ff; text-decoration-color: #0087ff\">Dense</span>)                      │ (<span style=\"color: #00d7ff; text-decoration-color: #00d7ff\">None</span>, <span style=\"color: #00af00; text-decoration-color: #00af00\">32</span>)                  │           <span style=\"color: #00af00; text-decoration-color: #00af00\">2,080</span> │\n",
              "├──────────────────────────────────────┼─────────────────────────────┼─────────────────┤\n",
              "│ dense_9 (<span style=\"color: #0087ff; text-decoration-color: #0087ff\">Dense</span>)                      │ (<span style=\"color: #00d7ff; text-decoration-color: #00d7ff\">None</span>, <span style=\"color: #00af00; text-decoration-color: #00af00\">1</span>)                   │              <span style=\"color: #00af00; text-decoration-color: #00af00\">33</span> │\n",
              "└──────────────────────────────────────┴─────────────────────────────┴─────────────────┘\n",
              "</pre>\n"
            ]
          },
          "metadata": {}
        },
        {
          "output_type": "display_data",
          "data": {
            "text/plain": [
              "\u001b[1m Total params: \u001b[0m\u001b[38;5;34m356,109\u001b[0m (1.36 MB)\n"
            ],
            "text/html": [
              "<pre style=\"white-space:pre;overflow-x:auto;line-height:normal;font-family:Menlo,'DejaVu Sans Mono',consolas,'Courier New',monospace\"><span style=\"font-weight: bold\"> Total params: </span><span style=\"color: #00af00; text-decoration-color: #00af00\">356,109</span> (1.36 MB)\n",
              "</pre>\n"
            ]
          },
          "metadata": {}
        },
        {
          "output_type": "display_data",
          "data": {
            "text/plain": [
              "\u001b[1m Trainable params: \u001b[0m\u001b[38;5;34m355,597\u001b[0m (1.36 MB)\n"
            ],
            "text/html": [
              "<pre style=\"white-space:pre;overflow-x:auto;line-height:normal;font-family:Menlo,'DejaVu Sans Mono',consolas,'Courier New',monospace\"><span style=\"font-weight: bold\"> Trainable params: </span><span style=\"color: #00af00; text-decoration-color: #00af00\">355,597</span> (1.36 MB)\n",
              "</pre>\n"
            ]
          },
          "metadata": {}
        },
        {
          "output_type": "display_data",
          "data": {
            "text/plain": [
              "\u001b[1m Non-trainable params: \u001b[0m\u001b[38;5;34m512\u001b[0m (2.00 KB)\n"
            ],
            "text/html": [
              "<pre style=\"white-space:pre;overflow-x:auto;line-height:normal;font-family:Menlo,'DejaVu Sans Mono',consolas,'Courier New',monospace\"><span style=\"font-weight: bold\"> Non-trainable params: </span><span style=\"color: #00af00; text-decoration-color: #00af00\">512</span> (2.00 KB)\n",
              "</pre>\n"
            ]
          },
          "metadata": {}
        },
        {
          "output_type": "stream",
          "name": "stdout",
          "text": [
            "Epoch 1/50\n",
            "\u001b[1m1603/1603\u001b[0m \u001b[32m━━━━━━━━━━━━━━━━━━━━\u001b[0m\u001b[37m\u001b[0m \u001b[1m32s\u001b[0m 17ms/step - accuracy: 0.7413 - loss: 0.5249 - val_accuracy: 0.7418 - val_loss: 0.5061\n",
            "Epoch 2/50\n",
            "\u001b[1m1603/1603\u001b[0m \u001b[32m━━━━━━━━━━━━━━━━━━━━\u001b[0m\u001b[37m\u001b[0m \u001b[1m41s\u001b[0m 17ms/step - accuracy: 0.7420 - loss: 0.5036 - val_accuracy: 0.7420 - val_loss: 0.5001\n",
            "Epoch 3/50\n",
            "\u001b[1m1603/1603\u001b[0m \u001b[32m━━━━━━━━━━━━━━━━━━━━\u001b[0m\u001b[37m\u001b[0m \u001b[1m44s\u001b[0m 19ms/step - accuracy: 0.7416 - loss: 0.5000 - val_accuracy: 0.7418 - val_loss: 0.4956\n",
            "Epoch 4/50\n",
            "\u001b[1m1603/1603\u001b[0m \u001b[32m━━━━━━━━━━━━━━━━━━━━\u001b[0m\u001b[37m\u001b[0m \u001b[1m27s\u001b[0m 17ms/step - accuracy: 0.7418 - loss: 0.4969 - val_accuracy: 0.7428 - val_loss: 0.4982\n",
            "Epoch 5/50\n",
            "\u001b[1m1603/1603\u001b[0m \u001b[32m━━━━━━━━━━━━━━━━━━━━\u001b[0m\u001b[37m\u001b[0m \u001b[1m29s\u001b[0m 18ms/step - accuracy: 0.7423 - loss: 0.4958 - val_accuracy: 0.7455 - val_loss: 0.4933\n",
            "Epoch 6/50\n",
            "\u001b[1m1603/1603\u001b[0m \u001b[32m━━━━━━━━━━━━━━━━━━━━\u001b[0m\u001b[37m\u001b[0m \u001b[1m29s\u001b[0m 18ms/step - accuracy: 0.7429 - loss: 0.4937 - val_accuracy: 0.7418 - val_loss: 0.4936\n",
            "Epoch 7/50\n",
            "\u001b[1m1603/1603\u001b[0m \u001b[32m━━━━━━━━━━━━━━━━━━━━\u001b[0m\u001b[37m\u001b[0m \u001b[1m38s\u001b[0m 17ms/step - accuracy: 0.7427 - loss: 0.4934 - val_accuracy: 0.7441 - val_loss: 0.4931\n",
            "Epoch 8/50\n",
            "\u001b[1m1603/1603\u001b[0m \u001b[32m━━━━━━━━━━━━━━━━━━━━\u001b[0m\u001b[37m\u001b[0m \u001b[1m26s\u001b[0m 16ms/step - accuracy: 0.7434 - loss: 0.4929 - val_accuracy: 0.7429 - val_loss: 0.4970\n",
            "Epoch 9/50\n",
            "\u001b[1m1603/1603\u001b[0m \u001b[32m━━━━━━━━━━━━━━━━━━━━\u001b[0m\u001b[37m\u001b[0m \u001b[1m41s\u001b[0m 16ms/step - accuracy: 0.7432 - loss: 0.4931 - val_accuracy: 0.7442 - val_loss: 0.4920\n",
            "Epoch 10/50\n",
            "\u001b[1m1603/1603\u001b[0m \u001b[32m━━━━━━━━━━━━━━━━━━━━\u001b[0m\u001b[37m\u001b[0m \u001b[1m42s\u001b[0m 17ms/step - accuracy: 0.7420 - loss: 0.4931 - val_accuracy: 0.7448 - val_loss: 0.4950\n",
            "Epoch 11/50\n",
            "\u001b[1m1603/1603\u001b[0m \u001b[32m━━━━━━━━━━━━━━━━━━━━\u001b[0m\u001b[37m\u001b[0m \u001b[1m29s\u001b[0m 18ms/step - accuracy: 0.7438 - loss: 0.4924 - val_accuracy: 0.7443 - val_loss: 0.4909\n",
            "Epoch 12/50\n",
            "\u001b[1m1603/1603\u001b[0m \u001b[32m━━━━━━━━━━━━━━━━━━━━\u001b[0m\u001b[37m\u001b[0m \u001b[1m38s\u001b[0m 16ms/step - accuracy: 0.7427 - loss: 0.4929 - val_accuracy: 0.7441 - val_loss: 0.4910\n",
            "Epoch 13/50\n",
            "\u001b[1m1603/1603\u001b[0m \u001b[32m━━━━━━━━━━━━━━━━━━━━\u001b[0m\u001b[37m\u001b[0m \u001b[1m44s\u001b[0m 18ms/step - accuracy: 0.7452 - loss: 0.4906 - val_accuracy: 0.7446 - val_loss: 0.4905\n",
            "Epoch 14/50\n",
            "\u001b[1m1603/1603\u001b[0m \u001b[32m━━━━━━━━━━━━━━━━━━━━\u001b[0m\u001b[37m\u001b[0m \u001b[1m41s\u001b[0m 18ms/step - accuracy: 0.7426 - loss: 0.4919 - val_accuracy: 0.7452 - val_loss: 0.4919\n",
            "Epoch 15/50\n",
            "\u001b[1m1603/1603\u001b[0m \u001b[32m━━━━━━━━━━━━━━━━━━━━\u001b[0m\u001b[37m\u001b[0m \u001b[1m38s\u001b[0m 16ms/step - accuracy: 0.7434 - loss: 0.4917 - val_accuracy: 0.7422 - val_loss: 0.4935\n",
            "Epoch 16/50\n",
            "\u001b[1m1603/1603\u001b[0m \u001b[32m━━━━━━━━━━━━━━━━━━━━\u001b[0m\u001b[37m\u001b[0m \u001b[1m42s\u001b[0m 17ms/step - accuracy: 0.7445 - loss: 0.4904 - val_accuracy: 0.7410 - val_loss: 0.4924\n",
            "Epoch 17/50\n",
            "\u001b[1m1603/1603\u001b[0m \u001b[32m━━━━━━━━━━━━━━━━━━━━\u001b[0m\u001b[37m\u001b[0m \u001b[1m26s\u001b[0m 16ms/step - accuracy: 0.7444 - loss: 0.4903 - val_accuracy: 0.7439 - val_loss: 0.4913\n",
            "Epoch 18/50\n",
            "\u001b[1m1603/1603\u001b[0m \u001b[32m━━━━━━━━━━━━━━━━━━━━\u001b[0m\u001b[37m\u001b[0m \u001b[1m42s\u001b[0m 16ms/step - accuracy: 0.7438 - loss: 0.4915 - val_accuracy: 0.7455 - val_loss: 0.4909\n"
          ]
        },
        {
          "output_type": "execute_result",
          "data": {
            "text/plain": [
              "<keras.src.callbacks.history.History at 0x7e05ce88aa50>"
            ]
          },
          "metadata": {},
          "execution_count": 29
        }
      ]
    },
    {
      "cell_type": "markdown",
      "source": [],
      "metadata": {
        "id": "1fZfVpEWxtau"
      }
    },
    {
      "cell_type": "markdown",
      "source": [
        "# Predict & Submission"
      ],
      "metadata": {
        "id": "dUozmHc-Sccn"
      }
    },
    {
      "cell_type": "code",
      "execution_count": 30,
      "metadata": {
        "id": "zpb8B5BTPA54",
        "colab": {
          "base_uri": "https://localhost:8080/"
        },
        "outputId": "0255ff8f-ba1c-4adb-e965-dda73e3547b7"
      },
      "outputs": [
        {
          "output_type": "stream",
          "name": "stdout",
          "text": [
            "\u001b[1m2815/2815\u001b[0m \u001b[32m━━━━━━━━━━━━━━━━━━━━\u001b[0m\u001b[37m\u001b[0m \u001b[1m8s\u001b[0m 3ms/step\n"
          ]
        }
      ],
      "source": [
        "y_test = model.predict(X_test_encoded) #다른 모델 예측하려면 cat_model을 다른 모델명으로 바꿔주면 됨."
      ]
    },
    {
      "cell_type": "code",
      "execution_count": 31,
      "metadata": {
        "id": "iFrVgIftPA54"
      },
      "outputs": [],
      "source": [
        "sample_submission = pd.read_csv('/content/drive/My Drive/Aimers6/sample_submission.csv')\n",
        "sample_submission['probability'] = y_test\n",
        "\n",
        "sample_submission.to_csv('/content/drive/My Drive/Aimers6/relu_submission.csv', index=False)"
      ]
    }
  ],
  "metadata": {
    "kernelspec": {
      "display_name": "Python 3",
      "language": "python",
      "name": "python3"
    },
    "language_info": {
      "codemirror_mode": {
        "name": "ipython",
        "version": 3
      },
      "file_extension": ".py",
      "mimetype": "text/x-python",
      "name": "python",
      "nbconvert_exporter": "python",
      "pygments_lexer": "ipython3",
      "version": "3.11.2"
    },
    "colab": {
      "provenance": []
    }
  },
  "nbformat": 4,
  "nbformat_minor": 0
}